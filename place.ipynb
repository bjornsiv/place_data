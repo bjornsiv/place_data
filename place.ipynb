{
 "cells": [
  {
   "cell_type": "code",
   "execution_count": 10,
   "metadata": {},
   "outputs": [],
   "source": [
    "import pandas as pd\n",
    "import os\n",
    "import glob\n",
    "import time\n",
    "from numba import jit"
   ]
  },
  {
   "cell_type": "code",
   "execution_count": 11,
   "metadata": {},
   "outputs": [],
   "source": [
    "chunk_size = 500000\n",
    "sorted_values = pd.DataFrame"
   ]
  },
  {
   "cell_type": "code",
   "execution_count": 13,
   "metadata": {},
   "outputs": [],
   "source": [
    "#Sorts the values\n",
    "def sortinize():  \n",
    "    sorted_values = pd.read_csv('2022_place_canvas_history.csv.gzip', compression='gzip', engine=\"python\")\n",
    "    sorted_values = sorted_values.sort_values(by=(['user_id']), kind='heapsort')\n",
    "    print(sorted_values)\n",
    "start_time = time.time()\n",
    "\n",
    "sortinize()\n",
    "print(\"--- %s seconds ---\" % (time.time() - start_time))"
   ]
  },
  {
   "cell_type": "code",
   "execution_count": null,
   "metadata": {},
   "outputs": [],
   "source": [
    "#Splits up the dataset into chunks of 500,000 rows each\n",
    "@jit(nopython=True)\n",
    "def chunkinize():\n",
    "   for i,chunk in enumerate(sorted_values):\n",
    "      chunk.to_csv('./tmp/split_csv_pandas/chunk{}.csv.gzip'.format(i), index=False, compression='gzip')\n",
    "   print('The chunks have been written to ./tmp/split_csv_pandas')\n",
    "\n",
    "start_time = time.time()\n",
    "chunkinize()\n",
    "print(\"--- %s seconds ---\" % (time.time() - start_time))"
   ]
  },
  {
   "cell_type": "code",
   "execution_count": 2,
   "metadata": {},
   "outputs": [
    {
     "name": "stdout",
     "output_type": "stream",
     "text": [
      "This dataset is:  160353104  rows long\n"
     ]
    }
   ],
   "source": [
    "#Counts how many rows is in the dataset and prints it, must be run for the rest to work\n",
    "path = './tmp/split_csv_pandas'\n",
    "csv_files = glob.glob(os.path.join(path, \"*.csv\"))\n",
    "\n",
    "sum=0\n",
    "for i, df_chunk in enumerate(csv_files):\n",
    "    sum += chunk_size\n",
    "sum -= chunk_size\n",
    "\n",
    "last_path = f'./tmp/split_csv_pandas/chunk{i}.csv'\n",
    "last_len = pd.read_csv(last_path).shape[0]\n",
    "sum += last_len\n",
    "\n",
    "print('This dataset is: ', str(sum), ' rows long')"
   ]
  },
  {
   "cell_type": "markdown",
   "metadata": {},
   "source": [
    "The code cells under will generate a csv file with user_id and occurences\n"
   ]
  },
  {
   "cell_type": "code",
   "execution_count": null,
   "metadata": {},
   "outputs": [],
   "source": [
    "#Loops throuh the entire dataset and count how many occurences of a specific user_id\n",
    "\n",
    "for i, df_chunk in enumerate(csv_files):\n",
    "    df_temp = pd.read_csv(df_chunk)\n",
    "\n",
    "    freq = df_temp.groupby(['user_id']).size()\n",
    "    freq.to_csv('./tmp/user_list_split_csv/chunk{}.csv.gzip'.format(i), index=True, compression='gzip')\n"
   ]
  },
  {
   "cell_type": "code",
   "execution_count": null,
   "metadata": {},
   "outputs": [],
   "source": [
    "#Combines every user_list_csv chunk into one dataframe, Loooooooooooooooooooong runtime\n",
    "path_user_list = './tmp/user_list_split_csv.gzip'\n",
    "csv_files = glob.glob(os.path.join(path, \"*.csv\"))\n",
    "\n",
    "len_sum = 0\n",
    "\n",
    "for i, df_user in enumerate(csv_files):\n",
    "    user_list = pd.read_csv('./results/user_list.csv', sep=',', encoding='utf-8', compression='gzip')\n",
    "    user_list_temp = pd.read_csv(df_user, sep=',', encoding='utf-8', compression='gzip')\n",
    "    len_sum += user_list_temp.shape[0]\n",
    "\n",
    "    user_list = pd.merge(user_list, user_list_temp, on=\"user_id\", compression='gzip')\n",
    "    user_list.to_csv('./results/user_list.csv', index=True, compression='gzip')\n",
    "\n",
    "print('The dataset contains ', str(len_sum), ' unique user_id s')"
   ]
  },
  {
   "cell_type": "code",
   "execution_count": null,
   "metadata": {},
   "outputs": [],
   "source": [
    "#Writes the huuuge dataframe to a csv file\n"
   ]
  },
  {
   "cell_type": "markdown",
   "metadata": {},
   "source": [
    "Now i will do the same for coordinates"
   ]
  },
  {
   "cell_type": "code",
   "execution_count": null,
   "metadata": {},
   "outputs": [],
   "source": [
    "#Loops throuh the entire dataset and count how many occurences of a specific coordinate\n",
    "for i, df_chunk in enumerate(csv_files):\n",
    "    df_temp = pd.read_csv(df_chunk)\n",
    "\n",
    "    freq = df_temp.groupby(['coordinate']).size()\n",
    "    freq.to_csv('./tmp/coordinate_list_split_csv/chunk{}.csv'.format(i), index=True)"
   ]
  },
  {
   "cell_type": "code",
   "execution_count": null,
   "metadata": {},
   "outputs": [],
   "source": [
    "#Combines every coordinate_csv chunk into one file, Loooooooooooooooooooong runtime\n",
    "path_coordinate_list = './tmp/coordinate_list_split_csv'\n",
    "csv_files = glob.glob(os.path.join(path, \"*.csv\"))\n",
    "\n",
    "len_sum = 0\n",
    "coordinate = pd.DataFrame()\n",
    "for i, df_user in enumerate(csv_files):\n",
    "    coordinate_temp = pd.read_csv(df_user, sep=',', encoding='utf-8')\n",
    "    len_sum += coordinate_temp.shape[0]\n",
    "    coordinate = pd.concat([coordinate, freq])\n",
    "    print('This is ', i)\n",
    "print('The dataset contains ', str(len_sum), ' unique coordinate s')"
   ]
  },
  {
   "cell_type": "code",
   "execution_count": null,
   "metadata": {},
   "outputs": [],
   "source": [
    "#Skriver ut chunkene til en csv fil, kinda pointless :/\n",
    "df = pd.concat((chunk for chunk in pd.read_csv('2022_place_canvas_history.csv',chunksize=1000000)))\n",
    "df.to_csv('./results/out.csv', sep=',', encoding='utf-8', index=True)"
   ]
  }
 ],
 "metadata": {
  "interpreter": {
   "hash": "73284ed3e2e97ecf70ec9a50d0d70f3426d084330c5b21b3e3e82720657c6dbe"
  },
  "kernelspec": {
   "display_name": "Python 3.10.4 64-bit",
   "language": "python",
   "name": "python3"
  },
  "language_info": {
   "codemirror_mode": {
    "name": "ipython",
    "version": 3
   },
   "file_extension": ".py",
   "mimetype": "text/x-python",
   "name": "python",
   "nbconvert_exporter": "python",
   "pygments_lexer": "ipython3",
   "version": "3.10.4"
  },
  "orig_nbformat": 4
 },
 "nbformat": 4,
 "nbformat_minor": 2
}
