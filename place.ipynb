{
 "cells": [
  {
   "cell_type": "code",
   "execution_count": 1,
   "metadata": {},
   "outputs": [],
   "source": [
    "import pandas as pd\n",
    "import os\n",
    "import glob"
   ]
  },
  {
   "cell_type": "code",
   "execution_count": null,
   "metadata": {},
   "outputs": [],
   "source": [
    "#Splits up the dataset into chunks of 500,000 rows each\n",
    "for i,chunk in enumerate(pd.read_csv('2022_place_canvas_history.csv.gzip', chunksize=500000, compression='gzip')):\n",
    "   chunk.to_csv('./tmp/split_csv_pandas/chunk{}.csv'.format(i), index=False)\n",
    "print('The chunks have been written to ./tmp/split_csv_pandas')"
   ]
  },
  {
   "cell_type": "code",
   "execution_count": 12,
   "metadata": {},
   "outputs": [
    {
     "name": "stdout",
     "output_type": "stream",
     "text": [
      "This dataset is:  160353104  rows long\n"
     ]
    }
   ],
   "source": [
    "#Counts how many rows is in the dataset and prints it, could be done better...\n",
    "path = './tmp/split_csv_pandas'\n",
    "csv_files = glob.glob(os.path.join(path, \"*.csv\"))\n",
    "\n",
    "len = 0\n",
    "counter=-1\n",
    "sum=0\n",
    "\n",
    "for i, df_chunk in enumerate(csv_files):\n",
    "    sum += 500000\n",
    "    counter += 1\n",
    "sum -= 500000\n",
    "\n",
    "last_path = './tmp/split_csv_pandas/chunk' + str(counter) + '.csv'\n",
    "last_len = pd.read_csv(last_path).shape[0]\n",
    "sum += last_len\n",
    "\n",
    "print('This dataset is: ', str(sum), ' rows long')\n"
   ]
  },
  {
   "cell_type": "code",
   "execution_count": 19,
   "metadata": {},
   "outputs": [
    {
     "name": "stdout",
     "output_type": "stream",
     "text": [
      "                          timestamp  \\\n",
      "0       2022-04-04 00:53:51.577 UTC   \n",
      "1       2022-04-04 00:53:53.758 UTC   \n",
      "2       2022-04-04 00:53:54.685 UTC   \n",
      "3       2022-04-04 00:54:57.541 UTC   \n",
      "4       2022-04-04 00:55:16.307 UTC   \n",
      "...                             ...   \n",
      "499995  2022-04-04 01:30:10.977 UTC   \n",
      "499996  2022-04-04 01:30:12.213 UTC   \n",
      "499997  2022-04-04 01:32:23.685 UTC   \n",
      "499998  2022-04-04 01:33:44.436 UTC   \n",
      "499999  2022-04-04 01:34:14.638 UTC   \n",
      "\n",
      "                                                  user_id pixel_color  \\\n",
      "0       ovTZk4GyTS1mDQnTbV+vDOCu1f+u6w+CkIZ6445vD4XN8a...     #00CCC0   \n",
      "1       6NSgFa1CvIPly1VniNhlbrmoN3vgDFbMSKqh+c4TTfrr3d...     #94B3FF   \n",
      "2       O5Oityp3Z3owzTuwM9XnMggpLcqKEumsOMKGhRiDTTImWb...     #6A5CFF   \n",
      "3       tc273UiqS0wKa6VwiOs/iz/t4LyPYrhL2Q347awn11IQQE...     #009EAA   \n",
      "4       OOWsU/HLb4UUkQwclDeXFtsJTOXMlAdNHiRpFA1Qk+SxUr...     #94B3FF   \n",
      "...                                                   ...         ...   \n",
      "499995  5INnzfzH18SfwMtWhcFDfsPNQOO/Gd5dnChQsL0/VJJtA1...     #6D001A   \n",
      "499996  d/t0uK3oM2Eo/O2aIRcbtPKjM11V74xnliqhC39V3UZ+xY...     #6D001A   \n",
      "499997  5SXxllm1yU1ZXeWUs1bmniRF3owamZIJjqtApM65tMDpI4...     #6D001A   \n",
      "499998  8qtITzYs5IqUJgy6x0Kzg5EytyHNF9u26UFRLeEVGKsjuy...     #6D001A   \n",
      "499999  WciobOIBG/7MjeoyFTytAw5jWxpnJKNQrezNnRLf+tHURU...     #6D001A   \n",
      "\n",
      "       coordinate  \n",
      "0        826,1048  \n",
      "1        583,1031  \n",
      "2        1873,558  \n",
      "3        1627,255  \n",
      "4         49,1478  \n",
      "...           ...  \n",
      "499995     13,260  \n",
      "499996  1989,1821  \n",
      "499997  1794,1830  \n",
      "499998  1802,1824  \n",
      "499999    100,275  \n",
      "\n",
      "[500000 rows x 4 columns]\n",
      "Now Reading chunk  0\n",
      "                          timestamp  \\\n",
      "0       2022-04-04 01:34:35.589 UTC   \n",
      "1       2022-04-04 01:34:40.515 UTC   \n",
      "2       2022-04-04 01:34:43.572 UTC   \n",
      "3       2022-04-04 01:35:27.085 UTC   \n",
      "4       2022-04-04 01:35:37.389 UTC   \n",
      "...                             ...   \n",
      "499995  2022-04-04 01:13:54.103 UTC   \n",
      "499996  2022-04-04 01:13:54.263 UTC   \n",
      "499997  2022-04-04 01:13:55.466 UTC   \n",
      "499998  2022-04-04 01:13:55.581 UTC   \n",
      "499999  2022-04-04 01:13:57.608 UTC   \n",
      "\n",
      "                                                  user_id pixel_color  \\\n",
      "0       oAZckH3njUndum6c3kUGP936hyModqrOiN1kPk9Wpb5rG2...     #6D001A   \n",
      "1       POeS66ntrjArb7+jE9iGsEQxLwbyUtEhC1BfLJClekqtQe...     #6D001A   \n",
      "2       OOKWWvLnVcAx2QbCfgxVfjRzIGWL+LCojp3pXaZvfj62YX...     #6D001A   \n",
      "3       4V35NSGaLOOZsqqbzebvBWuQE3YJkimHHaJTkgtyXYMTbc...     #6D001A   \n",
      "4       aS1ndung9ITHvp7v31geW5SB66lyGkAOSa2l9091uOsTbB...     #6D001A   \n",
      "...                                                   ...         ...   \n",
      "499995  sHM0B8T5aP3mzRVydJKr5BZfj8duBrtdGlPf5XxcuiobkE...     #FFFFFF   \n",
      "499996  nVlrcghPYUUKpe9dskikYtMDKwYw6DPxi56+8ggeGpaY07...     #FFFFFF   \n",
      "499997  1m+MaR8GSwkCCUFlkYXO7Ik5yvVNmGq2LGr+a/mjWDySGe...     #FFFFFF   \n",
      "499998  cieQXWYABYuZR3+WA7RR03dwkaM7TYgQnJnb8oo9tTwJHa...     #FFFFFF   \n",
      "499999  o8Rw8iZO7wjEwj7gTS40WDNWCh6xd1cojM8lr/5Yf5rfhk...     #FFFFFF   \n",
      "\n",
      "       coordinate  \n",
      "0       1796,1824  \n",
      "1       1243,1493  \n",
      "2        1987,100  \n",
      "3         375,396  \n",
      "4        791,1179  \n",
      "...           ...  \n",
      "499995   1905,711  \n",
      "499996  1833,1530  \n",
      "499997   216,1984  \n",
      "499998    99,1798  \n",
      "499999   1973,741  \n",
      "\n",
      "[500000 rows x 4 columns]\n",
      "Now Reading chunk  1\n"
     ]
    },
    {
     "ename": "KeyboardInterrupt",
     "evalue": "",
     "output_type": "error",
     "traceback": [
      "\u001b[1;31m---------------------------------------------------------------------------\u001b[0m",
      "\u001b[1;31mKeyboardInterrupt\u001b[0m                         Traceback (most recent call last)",
      "\u001b[1;32me:\\System\\Dokumenter\\github\\place_data\\place.ipynb Cell 4'\u001b[0m in \u001b[0;36m<cell line: 2>\u001b[1;34m()\u001b[0m\n\u001b[0;32m      <a href='vscode-notebook-cell:/e%3A/System/Dokumenter/github/place_data/place.ipynb#ch0000003?line=3'>4</a>\u001b[0m \u001b[39mprint\u001b[39m(df_temp)\n\u001b[0;32m      <a href='vscode-notebook-cell:/e%3A/System/Dokumenter/github/place_data/place.ipynb#ch0000003?line=4'>5</a>\u001b[0m \u001b[39mprint\u001b[39m(\u001b[39m'\u001b[39m\u001b[39mNow Reading chunk \u001b[39m\u001b[39m'\u001b[39m, i)\n\u001b[1;32m----> <a href='vscode-notebook-cell:/e%3A/System/Dokumenter/github/place_data/place.ipynb#ch0000003?line=6'>7</a>\u001b[0m freq \u001b[39m=\u001b[39m df_temp\u001b[39m.\u001b[39;49mgroupby([\u001b[39m'\u001b[39;49m\u001b[39muser_id\u001b[39;49m\u001b[39m'\u001b[39;49m])\u001b[39m.\u001b[39;49msize()\n\u001b[0;32m      <a href='vscode-notebook-cell:/e%3A/System/Dokumenter/github/place_data/place.ipynb#ch0000003?line=7'>8</a>\u001b[0m freq\u001b[39m.\u001b[39mto_csv(\u001b[39m'\u001b[39m\u001b[39m./tmp/user_list_split_csv/chunk\u001b[39m\u001b[39m{}\u001b[39;00m\u001b[39m.csv\u001b[39m\u001b[39m'\u001b[39m\u001b[39m.\u001b[39mformat(i), index\u001b[39m=\u001b[39m\u001b[39mTrue\u001b[39;00m)\n",
      "File \u001b[1;32m~\\AppData\\Local\\Programs\\Python\\Python310\\lib\\site-packages\\pandas\\core\\groupby\\groupby.py:2151\u001b[0m, in \u001b[0;36mGroupBy.size\u001b[1;34m(self)\u001b[0m\n\u001b[0;32m   <a href='file:///c%3A/Users/siber/AppData/Local/Programs/Python/Python310/lib/site-packages/pandas/core/groupby/groupby.py?line=2137'>2138</a>\u001b[0m \u001b[39m@final\u001b[39m\n\u001b[0;32m   <a href='file:///c%3A/Users/siber/AppData/Local/Programs/Python/Python310/lib/site-packages/pandas/core/groupby/groupby.py?line=2138'>2139</a>\u001b[0m \u001b[39m@Substitution\u001b[39m(name\u001b[39m=\u001b[39m\u001b[39m\"\u001b[39m\u001b[39mgroupby\u001b[39m\u001b[39m\"\u001b[39m)\n\u001b[0;32m   <a href='file:///c%3A/Users/siber/AppData/Local/Programs/Python/Python310/lib/site-packages/pandas/core/groupby/groupby.py?line=2139'>2140</a>\u001b[0m \u001b[39m@Appender\u001b[39m(_common_see_also)\n\u001b[0;32m   <a href='file:///c%3A/Users/siber/AppData/Local/Programs/Python/Python310/lib/site-packages/pandas/core/groupby/groupby.py?line=2140'>2141</a>\u001b[0m \u001b[39mdef\u001b[39;00m \u001b[39msize\u001b[39m(\u001b[39mself\u001b[39m) \u001b[39m-\u001b[39m\u001b[39m>\u001b[39m DataFrame \u001b[39m|\u001b[39m Series:\n\u001b[0;32m   <a href='file:///c%3A/Users/siber/AppData/Local/Programs/Python/Python310/lib/site-packages/pandas/core/groupby/groupby.py?line=2141'>2142</a>\u001b[0m     \u001b[39m\"\"\"\u001b[39;00m\n\u001b[0;32m   <a href='file:///c%3A/Users/siber/AppData/Local/Programs/Python/Python310/lib/site-packages/pandas/core/groupby/groupby.py?line=2142'>2143</a>\u001b[0m \u001b[39m    Compute group sizes.\u001b[39;00m\n\u001b[0;32m   <a href='file:///c%3A/Users/siber/AppData/Local/Programs/Python/Python310/lib/site-packages/pandas/core/groupby/groupby.py?line=2143'>2144</a>\u001b[0m \n\u001b[1;32m   (...)\u001b[0m\n\u001b[0;32m   <a href='file:///c%3A/Users/siber/AppData/Local/Programs/Python/Python310/lib/site-packages/pandas/core/groupby/groupby.py?line=2148'>2149</a>\u001b[0m \u001b[39m        or a DataFrame if as_index is False.\u001b[39;00m\n\u001b[0;32m   <a href='file:///c%3A/Users/siber/AppData/Local/Programs/Python/Python310/lib/site-packages/pandas/core/groupby/groupby.py?line=2149'>2150</a>\u001b[0m \u001b[39m    \"\"\"\u001b[39;00m\n\u001b[1;32m-> <a href='file:///c%3A/Users/siber/AppData/Local/Programs/Python/Python310/lib/site-packages/pandas/core/groupby/groupby.py?line=2150'>2151</a>\u001b[0m     result \u001b[39m=\u001b[39m \u001b[39mself\u001b[39;49m\u001b[39m.\u001b[39;49mgrouper\u001b[39m.\u001b[39;49msize()\n\u001b[0;32m   <a href='file:///c%3A/Users/siber/AppData/Local/Programs/Python/Python310/lib/site-packages/pandas/core/groupby/groupby.py?line=2152'>2153</a>\u001b[0m     \u001b[39m# GH28330 preserve subclassed Series/DataFrames through calls\u001b[39;00m\n\u001b[0;32m   <a href='file:///c%3A/Users/siber/AppData/Local/Programs/Python/Python310/lib/site-packages/pandas/core/groupby/groupby.py?line=2153'>2154</a>\u001b[0m     \u001b[39mif\u001b[39;00m \u001b[39misinstance\u001b[39m(\u001b[39mself\u001b[39m\u001b[39m.\u001b[39mobj, Series):\n",
      "File \u001b[1;32m~\\AppData\\Local\\Programs\\Python\\Python310\\lib\\site-packages\\pandas\\core\\groupby\\ops.py:808\u001b[0m, in \u001b[0;36mBaseGrouper.size\u001b[1;34m(self)\u001b[0m\n\u001b[0;32m    <a href='file:///c%3A/Users/siber/AppData/Local/Programs/Python/Python310/lib/site-packages/pandas/core/groupby/ops.py?line=802'>803</a>\u001b[0m \u001b[39m@final\u001b[39m\n\u001b[0;32m    <a href='file:///c%3A/Users/siber/AppData/Local/Programs/Python/Python310/lib/site-packages/pandas/core/groupby/ops.py?line=803'>804</a>\u001b[0m \u001b[39mdef\u001b[39;00m \u001b[39msize\u001b[39m(\u001b[39mself\u001b[39m) \u001b[39m-\u001b[39m\u001b[39m>\u001b[39m Series:\n\u001b[0;32m    <a href='file:///c%3A/Users/siber/AppData/Local/Programs/Python/Python310/lib/site-packages/pandas/core/groupby/ops.py?line=804'>805</a>\u001b[0m     \u001b[39m\"\"\"\u001b[39;00m\n\u001b[0;32m    <a href='file:///c%3A/Users/siber/AppData/Local/Programs/Python/Python310/lib/site-packages/pandas/core/groupby/ops.py?line=805'>806</a>\u001b[0m \u001b[39m    Compute group sizes.\u001b[39;00m\n\u001b[0;32m    <a href='file:///c%3A/Users/siber/AppData/Local/Programs/Python/Python310/lib/site-packages/pandas/core/groupby/ops.py?line=806'>807</a>\u001b[0m \u001b[39m    \"\"\"\u001b[39;00m\n\u001b[1;32m--> <a href='file:///c%3A/Users/siber/AppData/Local/Programs/Python/Python310/lib/site-packages/pandas/core/groupby/ops.py?line=807'>808</a>\u001b[0m     ids, _, ngroups \u001b[39m=\u001b[39m \u001b[39mself\u001b[39;49m\u001b[39m.\u001b[39;49mgroup_info\n\u001b[0;32m    <a href='file:///c%3A/Users/siber/AppData/Local/Programs/Python/Python310/lib/site-packages/pandas/core/groupby/ops.py?line=808'>809</a>\u001b[0m     out: np\u001b[39m.\u001b[39mndarray \u001b[39m|\u001b[39m \u001b[39mlist\u001b[39m\n\u001b[0;32m    <a href='file:///c%3A/Users/siber/AppData/Local/Programs/Python/Python310/lib/site-packages/pandas/core/groupby/ops.py?line=809'>810</a>\u001b[0m     \u001b[39mif\u001b[39;00m ngroups:\n",
      "File \u001b[1;32m~\\AppData\\Local\\Programs\\Python\\Python310\\lib\\site-packages\\pandas\\_libs\\properties.pyx:37\u001b[0m, in \u001b[0;36mpandas._libs.properties.CachedProperty.__get__\u001b[1;34m()\u001b[0m\n",
      "File \u001b[1;32m~\\AppData\\Local\\Programs\\Python\\Python310\\lib\\site-packages\\pandas\\core\\groupby\\ops.py:834\u001b[0m, in \u001b[0;36mBaseGrouper.group_info\u001b[1;34m(self)\u001b[0m\n\u001b[0;32m    <a href='file:///c%3A/Users/siber/AppData/Local/Programs/Python/Python310/lib/site-packages/pandas/core/groupby/ops.py?line=831'>832</a>\u001b[0m \u001b[39m@cache_readonly\u001b[39m\n\u001b[0;32m    <a href='file:///c%3A/Users/siber/AppData/Local/Programs/Python/Python310/lib/site-packages/pandas/core/groupby/ops.py?line=832'>833</a>\u001b[0m \u001b[39mdef\u001b[39;00m \u001b[39mgroup_info\u001b[39m(\u001b[39mself\u001b[39m) \u001b[39m-\u001b[39m\u001b[39m>\u001b[39m \u001b[39mtuple\u001b[39m[npt\u001b[39m.\u001b[39mNDArray[np\u001b[39m.\u001b[39mintp], npt\u001b[39m.\u001b[39mNDArray[np\u001b[39m.\u001b[39mintp], \u001b[39mint\u001b[39m]:\n\u001b[1;32m--> <a href='file:///c%3A/Users/siber/AppData/Local/Programs/Python/Python310/lib/site-packages/pandas/core/groupby/ops.py?line=833'>834</a>\u001b[0m     comp_ids, obs_group_ids \u001b[39m=\u001b[39m \u001b[39mself\u001b[39;49m\u001b[39m.\u001b[39;49m_get_compressed_codes()\n\u001b[0;32m    <a href='file:///c%3A/Users/siber/AppData/Local/Programs/Python/Python310/lib/site-packages/pandas/core/groupby/ops.py?line=835'>836</a>\u001b[0m     ngroups \u001b[39m=\u001b[39m \u001b[39mlen\u001b[39m(obs_group_ids)\n\u001b[0;32m    <a href='file:///c%3A/Users/siber/AppData/Local/Programs/Python/Python310/lib/site-packages/pandas/core/groupby/ops.py?line=836'>837</a>\u001b[0m     comp_ids \u001b[39m=\u001b[39m ensure_platform_int(comp_ids)\n",
      "File \u001b[1;32m~\\AppData\\Local\\Programs\\Python\\Python310\\lib\\site-packages\\pandas\\core\\groupby\\ops.py:862\u001b[0m, in \u001b[0;36mBaseGrouper._get_compressed_codes\u001b[1;34m(self)\u001b[0m\n\u001b[0;32m    <a href='file:///c%3A/Users/siber/AppData/Local/Programs/Python/Python310/lib/site-packages/pandas/core/groupby/ops.py?line=858'>859</a>\u001b[0m     \u001b[39mreturn\u001b[39;00m compress_group_index(group_index, sort\u001b[39m=\u001b[39m\u001b[39mself\u001b[39m\u001b[39m.\u001b[39m_sort)\n\u001b[0;32m    <a href='file:///c%3A/Users/siber/AppData/Local/Programs/Python/Python310/lib/site-packages/pandas/core/groupby/ops.py?line=860'>861</a>\u001b[0m ping \u001b[39m=\u001b[39m \u001b[39mself\u001b[39m\u001b[39m.\u001b[39mgroupings[\u001b[39m0\u001b[39m]\n\u001b[1;32m--> <a href='file:///c%3A/Users/siber/AppData/Local/Programs/Python/Python310/lib/site-packages/pandas/core/groupby/ops.py?line=861'>862</a>\u001b[0m \u001b[39mreturn\u001b[39;00m ping\u001b[39m.\u001b[39;49mcodes, np\u001b[39m.\u001b[39marange(\u001b[39mlen\u001b[39m(ping\u001b[39m.\u001b[39mgroup_index), dtype\u001b[39m=\u001b[39mnp\u001b[39m.\u001b[39mintp)\n",
      "File \u001b[1;32m~\\AppData\\Local\\Programs\\Python\\Python310\\lib\\site-packages\\pandas\\core\\groupby\\grouper.py:622\u001b[0m, in \u001b[0;36mGrouping.codes\u001b[1;34m(self)\u001b[0m\n\u001b[0;32m    <a href='file:///c%3A/Users/siber/AppData/Local/Programs/Python/Python310/lib/site-packages/pandas/core/groupby/grouper.py?line=617'>618</a>\u001b[0m \u001b[39mif\u001b[39;00m \u001b[39mself\u001b[39m\u001b[39m.\u001b[39m_codes \u001b[39mis\u001b[39;00m \u001b[39mnot\u001b[39;00m \u001b[39mNone\u001b[39;00m:\n\u001b[0;32m    <a href='file:///c%3A/Users/siber/AppData/Local/Programs/Python/Python310/lib/site-packages/pandas/core/groupby/grouper.py?line=618'>619</a>\u001b[0m     \u001b[39m# _codes is set in __init__ for MultiIndex cases\u001b[39;00m\n\u001b[0;32m    <a href='file:///c%3A/Users/siber/AppData/Local/Programs/Python/Python310/lib/site-packages/pandas/core/groupby/grouper.py?line=619'>620</a>\u001b[0m     \u001b[39mreturn\u001b[39;00m \u001b[39mself\u001b[39m\u001b[39m.\u001b[39m_codes\n\u001b[1;32m--> <a href='file:///c%3A/Users/siber/AppData/Local/Programs/Python/Python310/lib/site-packages/pandas/core/groupby/grouper.py?line=621'>622</a>\u001b[0m \u001b[39mreturn\u001b[39;00m \u001b[39mself\u001b[39;49m\u001b[39m.\u001b[39;49m_codes_and_uniques[\u001b[39m0\u001b[39m]\n",
      "File \u001b[1;32m~\\AppData\\Local\\Programs\\Python\\Python310\\lib\\site-packages\\pandas\\_libs\\properties.pyx:37\u001b[0m, in \u001b[0;36mpandas._libs.properties.CachedProperty.__get__\u001b[1;34m()\u001b[0m\n",
      "File \u001b[1;32m~\\AppData\\Local\\Programs\\Python\\Python310\\lib\\site-packages\\pandas\\core\\groupby\\grouper.py:690\u001b[0m, in \u001b[0;36mGrouping._codes_and_uniques\u001b[1;34m(self)\u001b[0m\n\u001b[0;32m    <a href='file:///c%3A/Users/siber/AppData/Local/Programs/Python/Python310/lib/site-packages/pandas/core/groupby/grouper.py?line=687'>688</a>\u001b[0m     \u001b[39melse\u001b[39;00m:\n\u001b[0;32m    <a href='file:///c%3A/Users/siber/AppData/Local/Programs/Python/Python310/lib/site-packages/pandas/core/groupby/grouper.py?line=688'>689</a>\u001b[0m         na_sentinel \u001b[39m=\u001b[39m \u001b[39m-\u001b[39m\u001b[39m1\u001b[39m\n\u001b[1;32m--> <a href='file:///c%3A/Users/siber/AppData/Local/Programs/Python/Python310/lib/site-packages/pandas/core/groupby/grouper.py?line=689'>690</a>\u001b[0m     codes, uniques \u001b[39m=\u001b[39m algorithms\u001b[39m.\u001b[39;49mfactorize(\n\u001b[0;32m    <a href='file:///c%3A/Users/siber/AppData/Local/Programs/Python/Python310/lib/site-packages/pandas/core/groupby/grouper.py?line=690'>691</a>\u001b[0m         \u001b[39mself\u001b[39;49m\u001b[39m.\u001b[39;49mgrouping_vector, sort\u001b[39m=\u001b[39;49m\u001b[39mself\u001b[39;49m\u001b[39m.\u001b[39;49m_sort, na_sentinel\u001b[39m=\u001b[39;49mna_sentinel\n\u001b[0;32m    <a href='file:///c%3A/Users/siber/AppData/Local/Programs/Python/Python310/lib/site-packages/pandas/core/groupby/grouper.py?line=691'>692</a>\u001b[0m     )\n\u001b[0;32m    <a href='file:///c%3A/Users/siber/AppData/Local/Programs/Python/Python310/lib/site-packages/pandas/core/groupby/grouper.py?line=692'>693</a>\u001b[0m \u001b[39mreturn\u001b[39;00m codes, uniques\n",
      "File \u001b[1;32m~\\AppData\\Local\\Programs\\Python\\Python310\\lib\\site-packages\\pandas\\core\\algorithms.py:768\u001b[0m, in \u001b[0;36mfactorize\u001b[1;34m(values, sort, na_sentinel, size_hint)\u001b[0m\n\u001b[0;32m    <a href='file:///c%3A/Users/siber/AppData/Local/Programs/Python/Python310/lib/site-packages/pandas/core/algorithms.py?line=762'>763</a>\u001b[0m     codes, uniques \u001b[39m=\u001b[39m factorize_array(\n\u001b[0;32m    <a href='file:///c%3A/Users/siber/AppData/Local/Programs/Python/Python310/lib/site-packages/pandas/core/algorithms.py?line=763'>764</a>\u001b[0m         values, na_sentinel\u001b[39m=\u001b[39mna_sentinel, size_hint\u001b[39m=\u001b[39msize_hint, na_value\u001b[39m=\u001b[39mna_value\n\u001b[0;32m    <a href='file:///c%3A/Users/siber/AppData/Local/Programs/Python/Python310/lib/site-packages/pandas/core/algorithms.py?line=764'>765</a>\u001b[0m     )\n\u001b[0;32m    <a href='file:///c%3A/Users/siber/AppData/Local/Programs/Python/Python310/lib/site-packages/pandas/core/algorithms.py?line=766'>767</a>\u001b[0m \u001b[39mif\u001b[39;00m sort \u001b[39mand\u001b[39;00m \u001b[39mlen\u001b[39m(uniques) \u001b[39m>\u001b[39m \u001b[39m0\u001b[39m:\n\u001b[1;32m--> <a href='file:///c%3A/Users/siber/AppData/Local/Programs/Python/Python310/lib/site-packages/pandas/core/algorithms.py?line=767'>768</a>\u001b[0m     uniques, codes \u001b[39m=\u001b[39m safe_sort(\n\u001b[0;32m    <a href='file:///c%3A/Users/siber/AppData/Local/Programs/Python/Python310/lib/site-packages/pandas/core/algorithms.py?line=768'>769</a>\u001b[0m         uniques, codes, na_sentinel\u001b[39m=\u001b[39;49mna_sentinel, assume_unique\u001b[39m=\u001b[39;49m\u001b[39mTrue\u001b[39;49;00m, verify\u001b[39m=\u001b[39;49m\u001b[39mFalse\u001b[39;49;00m\n\u001b[0;32m    <a href='file:///c%3A/Users/siber/AppData/Local/Programs/Python/Python310/lib/site-packages/pandas/core/algorithms.py?line=769'>770</a>\u001b[0m     )\n\u001b[0;32m    <a href='file:///c%3A/Users/siber/AppData/Local/Programs/Python/Python310/lib/site-packages/pandas/core/algorithms.py?line=771'>772</a>\u001b[0m code_is_na \u001b[39m=\u001b[39m codes \u001b[39m==\u001b[39m na_sentinel\n\u001b[0;32m    <a href='file:///c%3A/Users/siber/AppData/Local/Programs/Python/Python310/lib/site-packages/pandas/core/algorithms.py?line=772'>773</a>\u001b[0m \u001b[39mif\u001b[39;00m \u001b[39mnot\u001b[39;00m dropna \u001b[39mand\u001b[39;00m code_is_na\u001b[39m.\u001b[39many():\n\u001b[0;32m    <a href='file:///c%3A/Users/siber/AppData/Local/Programs/Python/Python310/lib/site-packages/pandas/core/algorithms.py?line=773'>774</a>\u001b[0m     \u001b[39m# na_value is set based on the dtype of uniques, and compat set to False is\u001b[39;00m\n\u001b[0;32m    <a href='file:///c%3A/Users/siber/AppData/Local/Programs/Python/Python310/lib/site-packages/pandas/core/algorithms.py?line=774'>775</a>\u001b[0m     \u001b[39m# because we do not want na_value to be 0 for integers\u001b[39;00m\n",
      "File \u001b[1;32m~\\AppData\\Local\\Programs\\Python\\Python310\\lib\\site-packages\\pandas\\core\\algorithms.py:1736\u001b[0m, in \u001b[0;36msafe_sort\u001b[1;34m(values, codes, na_sentinel, assume_unique, verify)\u001b[0m\n\u001b[0;32m   <a href='file:///c%3A/Users/siber/AppData/Local/Programs/Python/Python310/lib/site-packages/pandas/core/algorithms.py?line=1733'>1734</a>\u001b[0m \u001b[39mtry\u001b[39;00m:\n\u001b[0;32m   <a href='file:///c%3A/Users/siber/AppData/Local/Programs/Python/Python310/lib/site-packages/pandas/core/algorithms.py?line=1734'>1735</a>\u001b[0m     sorter \u001b[39m=\u001b[39m values\u001b[39m.\u001b[39margsort()\n\u001b[1;32m-> <a href='file:///c%3A/Users/siber/AppData/Local/Programs/Python/Python310/lib/site-packages/pandas/core/algorithms.py?line=1735'>1736</a>\u001b[0m     ordered \u001b[39m=\u001b[39m values\u001b[39m.\u001b[39;49mtake(sorter)\n\u001b[0;32m   <a href='file:///c%3A/Users/siber/AppData/Local/Programs/Python/Python310/lib/site-packages/pandas/core/algorithms.py?line=1736'>1737</a>\u001b[0m \u001b[39mexcept\u001b[39;00m \u001b[39mTypeError\u001b[39;00m:\n\u001b[0;32m   <a href='file:///c%3A/Users/siber/AppData/Local/Programs/Python/Python310/lib/site-packages/pandas/core/algorithms.py?line=1737'>1738</a>\u001b[0m     \u001b[39m# Previous sorters failed or were not applicable, try `_sort_mixed`\u001b[39;00m\n\u001b[0;32m   <a href='file:///c%3A/Users/siber/AppData/Local/Programs/Python/Python310/lib/site-packages/pandas/core/algorithms.py?line=1738'>1739</a>\u001b[0m     \u001b[39m# which would work, but which fails for special case of 1d arrays\u001b[39;00m\n\u001b[0;32m   <a href='file:///c%3A/Users/siber/AppData/Local/Programs/Python/Python310/lib/site-packages/pandas/core/algorithms.py?line=1739'>1740</a>\u001b[0m     \u001b[39m# with tuples.\u001b[39;00m\n\u001b[0;32m   <a href='file:///c%3A/Users/siber/AppData/Local/Programs/Python/Python310/lib/site-packages/pandas/core/algorithms.py?line=1740'>1741</a>\u001b[0m     \u001b[39mif\u001b[39;00m values\u001b[39m.\u001b[39msize \u001b[39mand\u001b[39;00m \u001b[39misinstance\u001b[39m(values[\u001b[39m0\u001b[39m], \u001b[39mtuple\u001b[39m):\n",
      "\u001b[1;31mKeyboardInterrupt\u001b[0m: "
     ]
    }
   ],
   "source": [
    "#Loops throuh the entire dataset and count how many occurences of a specific user_id\n",
    "for i, df_chunk in enumerate(csv_files):\n",
    "    df_temp = pd.read_csv(df_chunk)\n",
    "\n",
    "    freq = df_temp.groupby(['user_id']).size()\n",
    "    freq.to_csv('./tmp/user_list_split_csv/chunk{}.csv'.format(i), index=True)"
   ]
  },
  {
   "cell_type": "code",
   "execution_count": null,
   "metadata": {},
   "outputs": [],
   "source": [
    "#Combines every user_list_csv chunk into one file, Loooooooooooooooooooong runtime\n",
    "path_user_list = './tmp/user_list_split_csv'\n",
    "csv_files = glob.glob(os.path.join(path, \"*.csv\"))\n",
    "\n",
    "user_list = pd.DataFrame()\n",
    "for i, df_user in enumerate(csv_files):\n",
    "    user_list_temp = pd.read_csv(df_user, index=True, sep=',', encoding='utf-8')\n",
    "    user_list = pd.concat([user_list, freq])"
   ]
  },
  {
   "cell_type": "code",
   "execution_count": null,
   "metadata": {},
   "outputs": [],
   "source": [
    "#Skriver ut chunkene til en csv fil, kinda pointless :/\n",
    "df = pd.concat((chunk for chunk in pd.read_csv('2022_place_canvas_history.csv',chunksize=1000000)))\n",
    "df.to_csv('./results/out.csv', sep=',', encoding='utf-8', index=True)"
   ]
  }
 ],
 "metadata": {
  "interpreter": {
   "hash": "73284ed3e2e97ecf70ec9a50d0d70f3426d084330c5b21b3e3e82720657c6dbe"
  },
  "kernelspec": {
   "display_name": "Python 3.10.4 64-bit",
   "language": "python",
   "name": "python3"
  },
  "language_info": {
   "codemirror_mode": {
    "name": "ipython",
    "version": 3
   },
   "file_extension": ".py",
   "mimetype": "text/x-python",
   "name": "python",
   "nbconvert_exporter": "python",
   "pygments_lexer": "ipython3",
   "version": "3.10.4"
  },
  "orig_nbformat": 4
 },
 "nbformat": 4,
 "nbformat_minor": 2
}
